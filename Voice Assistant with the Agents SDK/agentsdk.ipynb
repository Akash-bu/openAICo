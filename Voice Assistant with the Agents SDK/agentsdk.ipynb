{
 "cells": [
  {
   "cell_type": "code",
   "execution_count": 1,
   "metadata": {},
   "outputs": [],
   "source": [
    "from agents import Agent, function_tool, WebSearchTool, FileSearchTool\n",
    "from agents.extensions.handoff_prompt import prompt_with_handoff_instructions"
   ]
  },
  {
   "cell_type": "code",
   "execution_count": 2,
   "metadata": {},
   "outputs": [],
   "source": [
    "search_agent = Agent(\n",
    "    name = \"SearchAgent\",\n",
    "    instructions = (\n",
    "        \"You immediately provide an input to the WebSearchTool to find up-to-date information on the user's query.\"\n",
    "    ),\n",
    "    tools = [WebSearchTool()],\n",
    ")"
   ]
  },
  {
   "cell_type": "code",
   "execution_count": 3,
   "metadata": {},
   "outputs": [
    {
     "name": "stdout",
     "output_type": "stream",
     "text": [
      "Vector store created:  {'id': 'vs_67e6e378b078819183608dea190ba442', 'name': \"Elly's beauty Product Knowledge Base\", 'created_at': 1743184760, 'file_count': 0}\n"
     ]
    },
    {
     "data": {
      "text/plain": [
       "{'file': 'acme_product_catalogue.pdf', 'status': 'success'}"
      ]
     },
     "execution_count": 3,
     "metadata": {},
     "output_type": "execute_result"
    }
   ],
   "source": [
    "from openai import OpenAI\n",
    "import os\n",
    "\n",
    "client = OpenAI()\n",
    "\n",
    "def upload_file(file_path: str, vector_store_id: str):\n",
    "    file_name = os.path.basename(file_path)\n",
    "    try:\n",
    "        file_response = client.files.create(file = open(file_path, 'rb'), purpose = \"assistants\")\n",
    "        attach_response = client.vector_stores.files.create(\n",
    "            vector_store_id = vector_store_id,\n",
    "            file_id = file_response.id\n",
    "        )\n",
    "        return {\"file\": file_name, \"status\": \"success\"}\n",
    "    \n",
    "    except Exception as e:\n",
    "        print(f\"Error with {file_name}: {str(e)}\")\n",
    "        return {\"file\": file_name, \"status\":\"failed\", \"error\":str(e)}\n",
    "\n",
    "#create a vector store which returns a dictionary\n",
    "\n",
    "def create_vector_store(store_name: str) -> dict:\n",
    "    try:\n",
    "        vector_store = client.vector_stores.create(name = store_name)\n",
    "        details = {\n",
    "            \"id\":vector_store.id,\n",
    "            \"name\":vector_store.name,\n",
    "            \"created_at\":vector_store.created_at,\n",
    "            \"file_count\":vector_store.file_counts.completed\n",
    "        }\n",
    "        print(\"Vector store created: \", details)\n",
    "        return details\n",
    "    \n",
    "    except Exception as e:\n",
    "        print(f\"Error creating vector store: {e}\")\n",
    "        return {}\n",
    "    \n",
    "vector_store_id = create_vector_store(\"Elly's beauty Product Knowledge Base\")\n",
    "upload_file(\"voice_agents_knowledge/acme_product_catalogue.pdf\", vector_store_id[\"id\"])\n"
   ]
  },
  {
   "cell_type": "code",
   "execution_count": 14,
   "metadata": {},
   "outputs": [],
   "source": [
    "knowledge_agent = Agent(\n",
    "    name = \"KnowledgeAgent\",\n",
    "    instructions= (\n",
    "        \"You answer user questions on our product portfolio with concise, helpful responses using the FileSearchtool.\"   \n",
    "    ),\n",
    "\n",
    "    tools = [FileSearchTool(\n",
    "        max_num_results = 3,\n",
    "        vector_store_ids= [\"vs_67e6e378b078819183608dea190ba442\"],\n",
    "    ),],\n",
    ")"
   ]
  },
  {
   "cell_type": "code",
   "execution_count": 15,
   "metadata": {},
   "outputs": [],
   "source": [
    "# --- Tool 1: Fetch account information (dummy) ---\n",
    "\n",
    "@function_tool\n",
    "def get_account_info(user_id: str) -> dict:\n",
    "    \"\"\"Returns dummy account information for a given user.\"\"\"\n",
    "    return{\n",
    "        \"user_id\": user_id,\n",
    "        \"name\": \"Markus Harry\",\n",
    "        \"account_balance\": \"$72.50\",\n",
    "        \"membership_status\": \"Gold Executive\"\n",
    "    }\n",
    "\n",
    "# --- Agent: Account Agent ---\n",
    "\n",
    "account_agent = Agent(\n",
    "    name=\"AccountAgent\",\n",
    "    instructions = (\n",
    "        \"You provide account information based on a user ID using the get_account_info tool.\"\n",
    "    ),\n",
    "    tools = [get_account_info],\n",
    ")"
   ]
  },
  {
   "cell_type": "code",
   "execution_count": 16,
   "metadata": {},
   "outputs": [],
   "source": [
    "# --- Agent: Triage Agent ---\n",
    "\n",
    "triage_agent = Agent(\n",
    "    name = \"Assistant\",\n",
    "    instructions = prompt_with_handoff_instructions(\"\"\"\n",
    "\n",
    "You are the virtual assistant for Elly's Shop. Welcome the user and ask how you can help.\n",
    "Based on the user's intent, route to:\n",
    "- AccountAgent for account-related queries\n",
    "- KnowledgeAgent for product FAQs\n",
    "- SearchAgent for anything requiring real-time web search\n",
    "                                                    \n",
    "\"\"\"),\n",
    "handoffs = [account_agent, knowledge_agent, search_agent],\n",
    ")"
   ]
  },
  {
   "cell_type": "code",
   "execution_count": 17,
   "metadata": {},
   "outputs": [
    {
     "name": "stdout",
     "output_type": "stream",
     "text": [
      "User: What's my Elly's account balance doc? My user ID is 9856215499\n",
      "Your account balance is $72.50, Markus Harry. You're also a Gold Executive member.\n",
      "---\n",
      "User: Ooh i've got money to spend! How big is the input and how fast is the output of the dynamite dispenser?\n",
      "The Automated Dynamite Dispenser has a capacity of 10 sticks and dispenses them at a speed of 1 stick every 2 seconds.\n",
      "---\n",
      "User: Hmmm, what about duck hunting gear - what's trending right now?\n",
      "Staying updated with the latest trends in duck hunting gear can significantly enhance your hunting experience. Here are some of the top trending items for the 2025 season:\n",
      "\n",
      "\n",
      "\n",
      "**Banded Aspire Catalyst Waders**  \n",
      "These all-season waders feature waterproof-breathable technology, minimal-stitch construction for enhanced mobility, and PrimaLoft Aerogel insulation inserts for thermal protection. ([blog.gritroutdoors.com](https://blog.gritroutdoors.com/must-have-duck-hunting-gear-for-a-winning-season/?utm_source=openai))\n",
      "\n",
      "\n",
      "\n",
      "\n",
      "**Sitka Delta Zip Wader**  \n",
      "Known for reinforced shins and knees with rugged foam pads, these waders are built with GORE-TEX material to keep you dry season after season. ([blog.gritroutdoors.com](https://blog.gritroutdoors.com/must-have-duck-hunting-gear-for-a-winning-season/?utm_source=openai))\n",
      "\n",
      "\n",
      "\n",
      "\n",
      "**MOmarsh InvisiMan Blind**  \n",
      "A low-profile, one-person blind that's sturdy, durable, and easy to set up, making it ideal for solo hunters. ([bornhunting.com](https://bornhunting.com/top-duck-hunting-gear/?utm_source=openai))\n",
      "\n",
      "\n",
      "\n",
      "\n",
      "**Slayer Calls Ranger Duck Call**  \n",
      "A double reed call known for its crisp and loud sound, effective in harsh weather conditions and at extreme distances. ([bornhunting.com](https://bornhunting.com/top-duck-hunting-gear/?utm_source=openai))\n",
      "\n",
      "\n",
      "\n",
      "\n",
      "**B&P Dual Steel Magnum Ammunition**  \n",
      "This load features #2 steel stacked atop #3 zinc-plated steel, offering impressive performance at long ranges and in high winds. ([bornhunting.com](https://bornhunting.com/top-duck-hunting-gear/?utm_source=openai))\n",
      "\n",
      "\n",
      "Incorporating these trending items into your gear can enhance your comfort, effectiveness, and overall success in the field. \n",
      "---\n"
     ]
    }
   ],
   "source": [
    "from agents import Runner, trace \n",
    "\n",
    "async def test_queries():\n",
    "    examples = [\n",
    "        \"What's my Elly's account balance doc? My user ID is 9856215499\", # Account Agent test\n",
    "        \"Ooh i've got money to spend! How big is the input and how fast is the output of the dynamite dispenser?\", # Knowledge Agent test\n",
    "        \"Hmmm, what about duck hunting gear - what's trending right now?\", # Search Agent test\n",
    "    ]\n",
    "\n",
    "    with trace(\"Elly's App Assistant\"):\n",
    "        for query in examples:\n",
    "            result = await Runner.run(triage_agent, query)\n",
    "            print(f\"User: {query}\")\n",
    "            print(result.final_output)\n",
    "            print(\"---\")\n",
    "            \n",
    "await test_queries()"
   ]
  },
  {
   "cell_type": "code",
   "execution_count": null,
   "metadata": {},
   "outputs": [],
   "source": []
  }
 ],
 "metadata": {
  "kernelspec": {
   "display_name": "Python 3",
   "language": "python",
   "name": "python3"
  },
  "language_info": {
   "codemirror_mode": {
    "name": "ipython",
    "version": 3
   },
   "file_extension": ".py",
   "mimetype": "text/x-python",
   "name": "python",
   "nbconvert_exporter": "python",
   "pygments_lexer": "ipython3",
   "version": "3.12.0"
  }
 },
 "nbformat": 4,
 "nbformat_minor": 2
}
